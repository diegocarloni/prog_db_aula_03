{
 "cells": [
  {
   "cell_type": "markdown",
   "id": "9d394e49-2247-47cf-bf3d-6cacc3c5e5de",
   "metadata": {},
   "source": [
    "## Programacao de banco de dados - Conhecendo a Sintaxe da linguagem"
   ]
  },
  {
   "cell_type": "markdown",
   "id": "a91d46ba-cbaf-4b64-bd62-39a2625c51a1",
   "metadata": {},
   "source": [
    "---"
   ]
  },
  {
   "cell_type": "code",
   "execution_count": 223,
   "id": "0577e41f-38b3-458b-8946-5a017837228a",
   "metadata": {
    "tags": []
   },
   "outputs": [],
   "source": [
    "x=5"
   ]
  },
  {
   "cell_type": "code",
   "execution_count": 224,
   "id": "b0757dcd-af0c-40a9-9725-a2d084205b3f",
   "metadata": {},
   "outputs": [
    {
     "data": {
      "text/plain": [
       "int"
      ]
     },
     "execution_count": 224,
     "metadata": {},
     "output_type": "execute_result"
    }
   ],
   "source": [
    "type(x)"
   ]
  },
  {
   "cell_type": "code",
   "execution_count": 225,
   "id": "3c891d49-776d-45a8-9255-ea6f0283dd53",
   "metadata": {},
   "outputs": [
    {
     "name": "stdout",
     "output_type": "stream",
     "text": [
      "<class 'int'>\n"
     ]
    }
   ],
   "source": [
    "print(type(x))"
   ]
  },
  {
   "cell_type": "code",
   "execution_count": 226,
   "id": "c652c29c-5598-427c-87ba-a5148d025202",
   "metadata": {},
   "outputs": [],
   "source": [
    "x=5.0"
   ]
  },
  {
   "cell_type": "code",
   "execution_count": 227,
   "id": "fe402b0d-a39d-4221-811b-301f4368f8bb",
   "metadata": {},
   "outputs": [
    {
     "data": {
      "text/plain": [
       "float"
      ]
     },
     "execution_count": 227,
     "metadata": {},
     "output_type": "execute_result"
    }
   ],
   "source": [
    "type(x)"
   ]
  },
  {
   "cell_type": "code",
   "execution_count": 228,
   "id": "35246447-b00e-4875-8db2-658fcc1c924b",
   "metadata": {},
   "outputs": [],
   "source": [
    "x=5j"
   ]
  },
  {
   "cell_type": "code",
   "execution_count": 229,
   "id": "cf5db86e-b580-4092-87dd-03c1090c9208",
   "metadata": {},
   "outputs": [
    {
     "data": {
      "text/plain": [
       "complex"
      ]
     },
     "execution_count": 229,
     "metadata": {},
     "output_type": "execute_result"
    }
   ],
   "source": [
    "type(x)"
   ]
  },
  {
   "cell_type": "code",
   "execution_count": 230,
   "id": "a8874ca9-d13d-4f07-8f62-275c0368d83b",
   "metadata": {},
   "outputs": [
    {
     "name": "stdout",
     "output_type": "stream",
     "text": [
      "<class 'float'>\n"
     ]
    }
   ],
   "source": [
    "print(type(9/3))"
   ]
  },
  {
   "cell_type": "code",
   "execution_count": 231,
   "id": "fc5339a6-e4b0-43ef-88cd-c4a4c6f895a6",
   "metadata": {},
   "outputs": [],
   "source": [
    "x=3"
   ]
  },
  {
   "cell_type": "code",
   "execution_count": 232,
   "id": "17e34b00-42dc-4a18-a6aa-16f617c71f2c",
   "metadata": {},
   "outputs": [],
   "source": [
    "y = x * 'teste'"
   ]
  },
  {
   "cell_type": "code",
   "execution_count": 233,
   "id": "9afee522-4023-4c47-b0a0-f557f019c521",
   "metadata": {},
   "outputs": [
    {
     "data": {
      "text/plain": [
       "'testetesteteste'"
      ]
     },
     "execution_count": 233,
     "metadata": {},
     "output_type": "execute_result"
    }
   ],
   "source": [
    "y"
   ]
  },
  {
   "cell_type": "code",
   "execution_count": 234,
   "id": "51cbcde8-1d81-4c7a-bbd3-f1ff28aa69cd",
   "metadata": {},
   "outputs": [
    {
     "ename": "TypeError",
     "evalue": "unsupported operand type(s) for +: 'int' and 'str'",
     "output_type": "error",
     "traceback": [
      "\u001b[1;31m---------------------------------------------------------------------------\u001b[0m",
      "\u001b[1;31mTypeError\u001b[0m                                 Traceback (most recent call last)",
      "Input \u001b[1;32mIn [234]\u001b[0m, in \u001b[0;36m<cell line: 1>\u001b[1;34m()\u001b[0m\n\u001b[1;32m----> 1\u001b[0m z \u001b[38;5;241m=\u001b[39m \u001b[43mx\u001b[49m\u001b[43m \u001b[49m\u001b[38;5;241;43m+\u001b[39;49m\u001b[43m \u001b[49m\u001b[38;5;124;43m'\u001b[39;49m\u001b[38;5;124;43mteste\u001b[39;49m\u001b[38;5;124;43m'\u001b[39;49m\n",
      "\u001b[1;31mTypeError\u001b[0m: unsupported operand type(s) for +: 'int' and 'str'"
     ]
    }
   ],
   "source": [
    "z = x + 'teste'"
   ]
  },
  {
   "cell_type": "code",
   "execution_count": 235,
   "id": "f56a59b2-8888-409b-a462-0c7fb85683fb",
   "metadata": {},
   "outputs": [],
   "source": [
    "z = str(x) + 'teste'"
   ]
  },
  {
   "cell_type": "code",
   "execution_count": 236,
   "id": "54bfb161-33cf-49d2-b090-9a8067dfb792",
   "metadata": {},
   "outputs": [
    {
     "data": {
      "text/plain": [
       "'3teste'"
      ]
     },
     "execution_count": 236,
     "metadata": {},
     "output_type": "execute_result"
    }
   ],
   "source": [
    "z"
   ]
  },
  {
   "cell_type": "code",
   "execution_count": 237,
   "id": "1644b147-bcf7-4015-b474-cf252d32a820",
   "metadata": {},
   "outputs": [],
   "source": [
    "x = int(1/3)"
   ]
  },
  {
   "cell_type": "code",
   "execution_count": 238,
   "id": "c166e326-e707-45fc-a8b9-e5d1c33b33ca",
   "metadata": {},
   "outputs": [
    {
     "name": "stdout",
     "output_type": "stream",
     "text": [
      "0\n"
     ]
    }
   ],
   "source": [
    "print(x)"
   ]
  },
  {
   "cell_type": "code",
   "execution_count": 239,
   "id": "3d7d1db8-5089-4a43-a63c-612915750956",
   "metadata": {},
   "outputs": [],
   "source": [
    "x = float(1/3)"
   ]
  },
  {
   "cell_type": "code",
   "execution_count": 240,
   "id": "e814650d-fc07-45fd-85fe-883b96d28455",
   "metadata": {},
   "outputs": [
    {
     "name": "stdout",
     "output_type": "stream",
     "text": [
      "0.3333333333333333\n"
     ]
    }
   ],
   "source": [
    "print(x)"
   ]
  },
  {
   "cell_type": "code",
   "execution_count": 241,
   "id": "f0c7b5f3-147d-45ec-9b04-99126ed83f01",
   "metadata": {},
   "outputs": [],
   "source": [
    "x = 42"
   ]
  },
  {
   "cell_type": "code",
   "execution_count": 242,
   "id": "a247b468-6a1d-4329-8320-f8c944366b61",
   "metadata": {},
   "outputs": [
    {
     "data": {
      "text/plain": [
       "42"
      ]
     },
     "execution_count": 242,
     "metadata": {},
     "output_type": "execute_result"
    }
   ],
   "source": [
    "x"
   ]
  },
  {
   "cell_type": "code",
   "execution_count": 243,
   "id": "5bdfbc4c-efdf-4a3b-9cee-caf5b7ce9f09",
   "metadata": {},
   "outputs": [],
   "source": [
    "x=0o10"
   ]
  },
  {
   "cell_type": "code",
   "execution_count": 244,
   "id": "7c922e19-6d39-4e81-a660-e5edba8b0205",
   "metadata": {},
   "outputs": [
    {
     "data": {
      "text/plain": [
       "8"
      ]
     },
     "execution_count": 244,
     "metadata": {},
     "output_type": "execute_result"
    }
   ],
   "source": [
    "x"
   ]
  },
  {
   "cell_type": "code",
   "execution_count": 245,
   "id": "60636afd-1e78-4bb3-9915-7a5ff2f6e2ef",
   "metadata": {},
   "outputs": [
    {
     "data": {
      "text/plain": [
       "0.30000000000000004"
      ]
     },
     "execution_count": 245,
     "metadata": {},
     "output_type": "execute_result"
    }
   ],
   "source": [
    "0.1+0.1+0.1"
   ]
  },
  {
   "cell_type": "code",
   "execution_count": 246,
   "id": "bfb480d0-d831-4c96-8321-ecc560ea81c8",
   "metadata": {},
   "outputs": [],
   "source": [
    "import decimal"
   ]
  },
  {
   "cell_type": "code",
   "execution_count": 247,
   "id": "710f846f-9405-482c-a530-9637d88a202d",
   "metadata": {},
   "outputs": [
    {
     "data": {
      "text/plain": [
       "Decimal('0.1000000000000000055511151231257827021181583404541015625')"
      ]
     },
     "execution_count": 247,
     "metadata": {},
     "output_type": "execute_result"
    }
   ],
   "source": [
    "decimal.Decimal(0.1)"
   ]
  },
  {
   "cell_type": "code",
   "execution_count": 248,
   "id": "444b32c8-c209-439f-ba13-bd100c4ec6b4",
   "metadata": {},
   "outputs": [],
   "source": [
    "a = 'Ola mundo!'"
   ]
  },
  {
   "cell_type": "code",
   "execution_count": 249,
   "id": "5e3c498b-d9d5-4953-9f65-3205fa0b0acd",
   "metadata": {},
   "outputs": [
    {
     "data": {
      "text/plain": [
       "'a'"
      ]
     },
     "execution_count": 249,
     "metadata": {},
     "output_type": "execute_result"
    }
   ],
   "source": [
    "a[2]"
   ]
  },
  {
   "cell_type": "code",
   "execution_count": 250,
   "id": "040c406a-45d3-4860-abfc-62a4eb9d43af",
   "metadata": {},
   "outputs": [
    {
     "name": "stdout",
     "output_type": "stream",
     "text": [
      "O\n",
      "l\n",
      "a\n",
      " \n",
      "m\n",
      "u\n",
      "n\n",
      "d\n",
      "o\n",
      "!\n"
     ]
    }
   ],
   "source": [
    "for i in a:\n",
    "    print(i)"
   ]
  },
  {
   "cell_type": "code",
   "execution_count": 251,
   "id": "6702f911-c844-4e36-95b4-05b9c19d5823",
   "metadata": {},
   "outputs": [
    {
     "name": "stdout",
     "output_type": "stream",
     "text": [
      "a m\n"
     ]
    }
   ],
   "source": [
    "print(a[2:5])"
   ]
  },
  {
   "cell_type": "code",
   "execution_count": 252,
   "id": "79db1043-a36e-4c2c-acfc-94d2a226731e",
   "metadata": {},
   "outputs": [],
   "source": [
    "a = 'Ola mundo!' [2]"
   ]
  },
  {
   "cell_type": "code",
   "execution_count": 253,
   "id": "745558f7-bbb6-4701-b967-a2b4ac3359a7",
   "metadata": {},
   "outputs": [
    {
     "data": {
      "text/plain": [
       "'a'"
      ]
     },
     "execution_count": 253,
     "metadata": {},
     "output_type": "execute_result"
    }
   ],
   "source": [
    "a"
   ]
  },
  {
   "cell_type": "code",
   "execution_count": 254,
   "id": "042143c8-8ea2-4741-8d3f-f3a177a68428",
   "metadata": {},
   "outputs": [],
   "source": [
    "x = 'Ola mundo!' [-6]"
   ]
  },
  {
   "cell_type": "code",
   "execution_count": 255,
   "id": "a75b94d5-06ad-4b9f-b02f-cceb7431b01a",
   "metadata": {},
   "outputs": [
    {
     "data": {
      "text/plain": [
       "'m'"
      ]
     },
     "execution_count": 255,
     "metadata": {},
     "output_type": "execute_result"
    }
   ],
   "source": [
    "x"
   ]
  },
  {
   "cell_type": "code",
   "execution_count": 256,
   "id": "68f8474d-3f32-49d9-8bde-339941ce2bc6",
   "metadata": {},
   "outputs": [],
   "source": [
    "a = 'Ola mundo!'"
   ]
  },
  {
   "cell_type": "code",
   "execution_count": 257,
   "id": "4a6adde3-44d9-448a-8de1-5ed8aa68b2c5",
   "metadata": {},
   "outputs": [
    {
     "data": {
      "text/plain": [
       "1"
      ]
     },
     "execution_count": 257,
     "metadata": {},
     "output_type": "execute_result"
    }
   ],
   "source": [
    "a.count('o')"
   ]
  },
  {
   "cell_type": "code",
   "execution_count": 258,
   "id": "af89332f-eca2-4412-a1ea-57b07f89cb9b",
   "metadata": {},
   "outputs": [],
   "source": [
    "x = '''ola \n",
    "mundo'''"
   ]
  },
  {
   "cell_type": "code",
   "execution_count": 259,
   "id": "e12ff159-e681-4914-aa0a-6927d14e9b8a",
   "metadata": {},
   "outputs": [
    {
     "data": {
      "text/plain": [
       "'ola \\nmundo'"
      ]
     },
     "execution_count": 259,
     "metadata": {},
     "output_type": "execute_result"
    }
   ],
   "source": [
    "x"
   ]
  },
  {
   "cell_type": "code",
   "execution_count": 260,
   "id": "ba2624f2-9911-4e34-9eb4-b32cd3722045",
   "metadata": {},
   "outputs": [],
   "source": [
    "#tupla - abre e fecha com () é imutável, e lista, abre e fecha com []. \n",
    "a = ('ave', 8, 'casa', 290, 8)"
   ]
  },
  {
   "cell_type": "code",
   "execution_count": 261,
   "id": "289f0775-6d3e-4ae8-bb3c-3f443affe413",
   "metadata": {},
   "outputs": [
    {
     "data": {
      "text/plain": [
       "2"
      ]
     },
     "execution_count": 261,
     "metadata": {},
     "output_type": "execute_result"
    }
   ],
   "source": [
    "a.index('casa')"
   ]
  },
  {
   "cell_type": "code",
   "execution_count": 262,
   "id": "250ac790-bf2f-465a-bb6f-e501e2e01e79",
   "metadata": {},
   "outputs": [
    {
     "data": {
      "text/plain": [
       "1"
      ]
     },
     "execution_count": 262,
     "metadata": {},
     "output_type": "execute_result"
    }
   ],
   "source": [
    "a.index(8)"
   ]
  },
  {
   "cell_type": "code",
   "execution_count": 263,
   "id": "e29d1676-909c-4231-96f9-f6cd3a90fa32",
   "metadata": {},
   "outputs": [
    {
     "data": {
      "text/plain": [
       "2"
      ]
     },
     "execution_count": 263,
     "metadata": {},
     "output_type": "execute_result"
    }
   ],
   "source": [
    "a.count(8)"
   ]
  },
  {
   "cell_type": "code",
   "execution_count": 264,
   "id": "10b5807c-39a3-48c0-9605-71e20a89106a",
   "metadata": {},
   "outputs": [],
   "source": [
    "b = a"
   ]
  },
  {
   "cell_type": "code",
   "execution_count": 265,
   "id": "40d17024-864c-4feb-bedd-34a63aab3d71",
   "metadata": {},
   "outputs": [
    {
     "ename": "TypeError",
     "evalue": "'tuple' object does not support item assignment",
     "output_type": "error",
     "traceback": [
      "\u001b[1;31m---------------------------------------------------------------------------\u001b[0m",
      "\u001b[1;31mTypeError\u001b[0m                                 Traceback (most recent call last)",
      "Input \u001b[1;32mIn [265]\u001b[0m, in \u001b[0;36m<cell line: 2>\u001b[1;34m()\u001b[0m\n\u001b[0;32m      1\u001b[0m \u001b[38;5;66;03m#imutável --- Tupla!\u001b[39;00m\n\u001b[1;32m----> 2\u001b[0m \u001b[43mb\u001b[49m\u001b[43m[\u001b[49m\u001b[38;5;241;43m1\u001b[39;49m\u001b[43m]\u001b[49m\u001b[38;5;241m=\u001b[39m\u001b[38;5;124m\"\u001b[39m\u001b[38;5;124mcasa\u001b[39m\u001b[38;5;124m\"\u001b[39m\n",
      "\u001b[1;31mTypeError\u001b[0m: 'tuple' object does not support item assignment"
     ]
    }
   ],
   "source": [
    "#imutável --- Tupla!\n",
    "b[1]=\"casa\""
   ]
  },
  {
   "cell_type": "code",
   "execution_count": 266,
   "id": "a8de910d-020e-4c7c-8c0f-11ee2f983086",
   "metadata": {},
   "outputs": [],
   "source": [
    "#lista [] ----Mutável (permite alteração)\n",
    "a = ['ave', 8, 'casa', 290, 8]"
   ]
  },
  {
   "cell_type": "code",
   "execution_count": 267,
   "id": "347638ed-1550-42f7-81b4-5fbb0bd3c641",
   "metadata": {},
   "outputs": [
    {
     "data": {
      "text/plain": [
       "['ave', 8, 'casa', 290, 8]"
      ]
     },
     "execution_count": 267,
     "metadata": {},
     "output_type": "execute_result"
    }
   ],
   "source": [
    "a"
   ]
  },
  {
   "cell_type": "code",
   "execution_count": 268,
   "id": "2e98473d-23ae-41d4-85f9-da92bd8fbc96",
   "metadata": {},
   "outputs": [],
   "source": [
    "#ponteiro, significa que b é uma segunda referencia para o objeto a (ocupam o mesmo espaço na memória)\n",
    "b = a"
   ]
  },
  {
   "cell_type": "code",
   "execution_count": 269,
   "id": "34d6e8cc-2d57-4d13-b292-e7311016a387",
   "metadata": {},
   "outputs": [],
   "source": [
    "b[1]=\"casa\""
   ]
  },
  {
   "cell_type": "code",
   "execution_count": 270,
   "id": "58ce3774-e27e-493d-8820-b1c7b1ed1f09",
   "metadata": {},
   "outputs": [
    {
     "data": {
      "text/plain": [
       "['ave', 'casa', 'casa', 290, 8]"
      ]
     },
     "execution_count": 270,
     "metadata": {},
     "output_type": "execute_result"
    }
   ],
   "source": [
    "a"
   ]
  },
  {
   "cell_type": "code",
   "execution_count": 271,
   "id": "8a6dfa1e-147f-4c83-8b47-244266deb4f4",
   "metadata": {},
   "outputs": [],
   "source": [
    "a = ['ave', 8, 'casa', 290, 8]"
   ]
  },
  {
   "cell_type": "code",
   "execution_count": 272,
   "id": "832a9d56-30b8-4832-a655-7c0cd922073d",
   "metadata": {},
   "outputs": [],
   "source": [
    "b = a.copy()"
   ]
  },
  {
   "cell_type": "code",
   "execution_count": 273,
   "id": "2872a92b-060f-4320-8391-f67e460dfbb9",
   "metadata": {},
   "outputs": [],
   "source": [
    "b[1]=\"casa\""
   ]
  },
  {
   "cell_type": "code",
   "execution_count": 274,
   "id": "b81bcf80-f214-4796-998c-9dbbcc910606",
   "metadata": {},
   "outputs": [
    {
     "data": {
      "text/plain": [
       "['ave', 8, 'casa', 290, 8]"
      ]
     },
     "execution_count": 274,
     "metadata": {},
     "output_type": "execute_result"
    }
   ],
   "source": [
    "a"
   ]
  },
  {
   "cell_type": "code",
   "execution_count": 275,
   "id": "55d8c8f7-3eec-4955-b9dd-4e30ecb2ab64",
   "metadata": {},
   "outputs": [
    {
     "data": {
      "text/plain": [
       "['ave', 'casa', 'casa', 290, 8]"
      ]
     },
     "execution_count": 275,
     "metadata": {},
     "output_type": "execute_result"
    }
   ],
   "source": [
    "b"
   ]
  },
  {
   "cell_type": "code",
   "execution_count": 276,
   "id": "0c156271-3ff2-45ad-b57d-5dc1192cd63a",
   "metadata": {},
   "outputs": [],
   "source": [
    "#Indices das listas\n"
   ]
  },
  {
   "cell_type": "code",
   "execution_count": null,
   "id": "1de3b9ca-bcc8-4f36-a011-931dc99ea973",
   "metadata": {},
   "outputs": [],
   "source": []
  },
  {
   "cell_type": "code",
   "execution_count": null,
   "id": "39fc81aa-a4f3-4f36-a871-c9df331084a3",
   "metadata": {},
   "outputs": [],
   "source": []
  }
 ],
 "metadata": {
  "kernelspec": {
   "display_name": "Python 3 (ipykernel)",
   "language": "python",
   "name": "python3"
  },
  "language_info": {
   "codemirror_mode": {
    "name": "ipython",
    "version": 3
   },
   "file_extension": ".py",
   "mimetype": "text/x-python",
   "name": "python",
   "nbconvert_exporter": "python",
   "pygments_lexer": "ipython3",
   "version": "3.10.6"
  }
 },
 "nbformat": 4,
 "nbformat_minor": 5
}
